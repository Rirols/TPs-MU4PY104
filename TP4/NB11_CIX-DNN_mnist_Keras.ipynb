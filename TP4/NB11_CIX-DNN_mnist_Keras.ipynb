{
 "cells": [
  {
   "cell_type": "markdown",
   "metadata": {},
   "source": [
    "# Notebook 11: Introduction to Deep Neural Networks with Keras"
   ]
  },
  {
   "cell_type": "markdown",
   "metadata": {},
   "source": [
    "## Learning Goals\n",
    "The goal of this notebook is to introduce deep neural networks (DNNs) using the high-level Keras package. The reader will become familiar with how to choose an architecture, cost function, and optimizer in Keras. We will also learn how to train neural networks.\n",
    "\n",
    "\n",
    "# MNIST with Keras\n",
    "\n",
    "We will once again work with the MNIST dataset of hand written digits introduced in *Notebook 7: Logistic Regression (MNIST)*. The goal is to find a statistical model which recognizes and distinguishes between the ten handwritten digits (0-9).\n",
    "\n",
    "The MNIST dataset comprises $70000$ handwritten digits, each of which comes in a square image, divided into a $28\\times 28$ pixel grid. Every pixel can take on $256$ nuances of the gray color, interpolating between white and black, and hence each data point assumes any value in the set $\\{0,1,\\dots,255\\}$. Since there are $10$ categories in the problem, corresponding to the ten digits, this problem represents a generic classification task. \n",
    "\n",
    "In this Notebook, we show how to use the Keras python package to tackle the MNIST problem with the help of deep neural networks.\n",
    "\n",
    "The following code is a slight modification of a Keras tutorial, see [https://github.com/fchollet/keras/blob/master/examples/mnist_cnn.py](https://github.com/fchollet/keras/blob/master/examples/mnist_cnn.py). We invite the reader to read Sec. IX of the review to acquire a broad understanding of what the separate parts of the code do."
   ]
  },
  {
   "cell_type": "code",
   "execution_count": 1,
   "metadata": {},
   "outputs": [],
   "source": [
    "from __future__ import print_function\n",
    "import keras,sklearn\n",
    "# suppress tensorflow compilation warnings\n",
    "import os\n",
    "os.environ['KMP_DUPLICATE_LIB_OK']='True'\n",
    "import tensorflow as tf\n",
    "os.environ['TF_CPP_MIN_LOG_LEVEL'] = '2'\n",
    "import numpy as np\n",
    "seed=0\n",
    "np.random.seed(seed) # fix random seed\n",
    "tf.random.set_seed(seed)\n",
    "import matplotlib.pyplot as plt"
   ]
  },
  {
   "cell_type": "markdown",
   "metadata": {},
   "source": [
    "## Structure of the Procedure\n",
    "\n",
    "Constructing a Deep Neural Network to solve ML problems is a multiple-stage process. Quite generally, one can identify the key steps as follows:\n",
    "\n",
    "* ***step 1:*** Load and process the data\n",
    "* ***step 2:*** Define the model and its architecture\n",
    "* ***step 3:*** Choose the optimizer and the cost function\n",
    "* ***step 4:*** Train the model \n",
    "* ***step 5:*** Evaluate the model performance on the *unseen* test data\n",
    "* ***step 6:*** Mini project\n",
    "\n",
    "We would like to emphasize that, while it is always possible to view steps 1-5 as independent of the particular task we are trying to solve, it is only when they are put together in ***step 6*** that the real gain of using Deep Learning is revealed, compared to less sophisticated methods such as the regression models or bagging, described in Secs. VII and VIII of the review. With this remark in mind, we shall focus predominantly on steps 1-5 below. We show how one can use grid search methods to find optimal hyperparameters in ***step 6***."
   ]
  },
  {
   "cell_type": "markdown",
   "metadata": {},
   "source": [
    "### Step 1: Load and Process the Data\n",
    "\n",
    "Keras can conveniently download the MNIST data from the web. All we need to do is import the `mnist` module and use the `load_data()` class, and it will create the training and test data sets or us.\n",
    "\n",
    "The MNIST set has pre-defined test and training sets, in order to facilitate the comparison of the performance of different models on the data.\n",
    "\n",
    "Once we have loaded the data, we need to format it in the correct shape. This differs from one package to the other and, as we see in the case of Keras, it can even be different depending on the backend used.\n",
    "\n",
    "While choosing the correct `datatype` can help improve the computational speed, we emphasize the rescaling step, which is necessary to avoid large variations in the minimal and maximal possible values of each feature. In other words, we want to make sure a feature is not being over-represented just because it is \"large\".\n",
    "\n",
    "Last, we cast the label vectors $y$ to binary class matrices (a.k.a. one-hot format), as explained in Sec. VII on SoftMax regression."
   ]
  },
  {
   "cell_type": "code",
   "execution_count": 2,
   "metadata": {},
   "outputs": [
    {
     "name": "stdout",
     "output_type": "stream",
     "text": [
      "an example of a data point with label 4\n"
     ]
    },
    {
     "data": {
      "image/png": "[encoded data removed]",
      "text/plain": [
       "<Figure size 288x288 with 1 Axes>"
      ]
     },
     "metadata": {
      "needs_background": "light"
     },
     "output_type": "display_data"
    },
    {
     "name": "stdout",
     "output_type": "stream",
     "text": [
      "X_train shape: (60000, 784)\n",
      "Y_train shape: (60000, 10)\n",
      "\n",
      "60000 train samples\n",
      "10000 test samples\n"
     ]
    }
   ],
   "source": [
    "from keras.datasets import mnist\n",
    "\n",
    "# input image dimensions\n",
    "num_classes = 10 # 10 digits\n",
    "\n",
    "img_rows, img_cols = 28, 28 # number of pixels \n",
    "\n",
    "# the data, shuffled and split between train and test sets\n",
    "(X_train, Y_train_raw), (X_test, Y_test_raw) = mnist.load_data()\n",
    "\n",
    "# reshape data, depending on Keras backend\n",
    "X_train = X_train.reshape(X_train.shape[0], img_rows*img_cols)\n",
    "X_test = X_test.reshape(X_test.shape[0], img_rows*img_cols)\n",
    "    \n",
    "# cast floats to single precesion\n",
    "X_train = X_train.astype('float32')\n",
    "X_test = X_test.astype('float32')\n",
    "\n",
    "# rescale data in interval [0,1]\n",
    "X_train /= 255\n",
    "X_test /= 255\n",
    "\n",
    "# look at an example of data point\n",
    "print('an example of a data point with label', Y_train_raw[20])\n",
    "plt.matshow(X_train[20,:].reshape(28,28),cmap='binary')\n",
    "plt.show()\n",
    "\n",
    "# convert class vectors to binary class matrices\n",
    "Y_train = keras.utils.to_categorical(Y_train_raw, num_classes)\n",
    "Y_test = keras.utils.to_categorical(Y_test_raw, num_classes)\n",
    "\n",
    "print('X_train shape:', X_train.shape)\n",
    "print('Y_train shape:', Y_train.shape)\n",
    "print()\n",
    "print(X_train.shape[0], 'train samples')\n",
    "print(X_test.shape[0], 'test samples')"
   ]
  },
  {
   "cell_type": "markdown",
   "metadata": {},
   "source": [
    "### Step 2: Define the Neural Net and its Architecture\n",
    "\n",
    "We can now move on to construct our deep neural net. We shall use Keras's `Sequential()` class to instantiate a model, and will add different deep layers one by one.\n",
    "\n",
    "At this stage, we refrain from using convolutional layers. This is done further below.\n",
    "\n",
    "Let us create an instance of Keras' `Sequential()` class, called `model`. As the name suggests, this class allows us to build DNNs layer by layer. We use the `add()` method to attach layers to our model. For the purposes of our introductory example, it suffices to focus on `Dense` layers for simplicity. Every `Dense()` layer accepts as its first required argument an integer which specifies the number of neurons. The type of activation function for the layer is defined using the `activation` optional argument, the input of which is the name of the activation function in `string` format. Examples include `relu`, `tanh`, `elu`, `sigmoid`, `softmax`. \n",
    "\n",
    "In order for our DNN to work properly, we have to make sure that the numbers of input and output neurons for each layer match. Therefore, we specify the shape of the input in the first layer of the model explicitly using the optional argument `input_shape=(N_features,)`. The sequential construction of the model then allows Keras to infer the correct input/output dimensions of all hidden layers automatically. Hence, we only need to specify the size of the softmax output layer to match the number of categories."
   ]
  },
  {
   "cell_type": "code",
   "execution_count": 6,
   "metadata": {},
   "outputs": [
    {
     "name": "stdout",
     "output_type": "stream",
     "text": [
      "Model architecture created successfully!\n"
     ]
    }
   ],
   "source": [
    "from keras.models import Sequential\n",
    "from keras.layers import Dense, Dropout, Flatten\n",
    "from keras.layers import Conv2D, MaxPooling2D\n",
    "\n",
    "\n",
    "def create_DNN():\n",
    "    # instantiate model\n",
    "    model = Sequential()\n",
    "    # add a dense all-to-all relu layer\n",
    "    model.add(Dense(400,input_shape=(img_rows*img_cols,), activation='relu'))\n",
    "    # add a dense all-to-all relu layer\n",
    "    model.add(Dense(100, activation='relu'))\n",
    "    # apply dropout with rate 0.5\n",
    "    model.add(Dropout(0.5))\n",
    "    # soft-max layer\n",
    "    model.add(Dense(num_classes, activation='softmax'))\n",
    "    \n",
    "    return model\n",
    "\n",
    "print('Model architecture created successfully!')"
   ]
  },
  {
   "cell_type": "markdown",
   "metadata": {},
   "source": [
    "### Step 3: Choose the Optimizer and the Cost Function\n",
    "\n",
    "Next, we choose the loss function according to which to train the DNN. For classification problems, this is the cross entropy, and since the output data was cast in categorical form, we choose the `categorical_crossentropy` defined in Keras' `losses` module. Depending on the problem of interest one can pick any other suitable loss function. To optimize the weights of the net, we choose SGD. This algorithm is already available to use under Keras' `optimizers` module, but we could use `Adam()` or any other built-in one as well. The parameters for the optimizer, such as `lr` (learning rate) or `momentum` are passed using the corresponding optional arguments of the `SGD()` function. All available arguments can be found in Keras' online documentation at [https://keras.io/](https://keras.io/). While the loss function and the optimizer are essential for the training procedure, to test the performance of the model one may want to look at a particular `metric` of performance. For instance, in categorical tasks one typically looks at their `accuracy`, which is defined as the percentage of correctly classified data points. To complete the definition of our model, we use the `compile()` method, with optional arguments for the `optimizer`, `loss`, and the validation `metric` as follows:"
   ]
  },
  {
   "cell_type": "code",
   "execution_count": 7,
   "metadata": {},
   "outputs": [
    {
     "name": "stdout",
     "output_type": "stream",
     "text": [
      "Model compiled successfully and ready to be trained.\n"
     ]
    }
   ],
   "source": [
    "def compile_model(optimizer=keras.optimizers.Adam()):\n",
    "    # create the mode\n",
    "    model=create_DNN()\n",
    "    # compile the model\n",
    "    model.compile(loss=keras.losses.categorical_crossentropy,\n",
    "                  optimizer=optimizer,\n",
    "                  metrics=['accuracy'])\n",
    "    return model\n",
    "\n",
    "print('Model compiled successfully and ready to be trained.')"
   ]
  },
  {
   "cell_type": "markdown",
   "metadata": {},
   "source": [
    "### Step 4: Train the model\n",
    "\n",
    "We train our DNN in minibatches, the advantages of which were explained in Sec. IV. \n",
    "\n",
    "Shuffling the training data during training improves stability of the model. Thus, we train over a number of training epochs. \n",
    "\n",
    "Training the DNN is a one-liner using the `fit()` method of the `Sequential` class. The first two required arguments are the training input and output data. As optional arguments, we specify the mini-`batch_size`, the number of training `epochs`, and the test or `validation_data`. To monitor the training procedure for every epoch, we set `verbose=True`. "
   ]
  },
  {
   "cell_type": "code",
   "execution_count": 5,
   "metadata": {},
   "outputs": [
    {
     "name": "stdout",
     "output_type": "stream",
     "text": [
      "Epoch 1/10\n",
      "938/938 [==============================] - 3s 4ms/step - loss: 0.3077 - accuracy: 0.9092 - val_loss: 0.1189 - val_accuracy: 0.9636\n",
      "Epoch 2/10\n",
      "938/938 [==============================] - 3s 3ms/step - loss: 0.1299 - accuracy: 0.9625 - val_loss: 0.0901 - val_accuracy: 0.9723\n",
      "Epoch 3/10\n",
      "938/938 [==============================] - 3s 3ms/step - loss: 0.0926 - accuracy: 0.9734 - val_loss: 0.0859 - val_accuracy: 0.9727\n",
      "Epoch 4/10\n",
      "938/938 [==============================] - 3s 3ms/step - loss: 0.0718 - accuracy: 0.9791 - val_loss: 0.0734 - val_accuracy: 0.9789\n",
      "Epoch 5/10\n",
      "938/938 [==============================] - 3s 3ms/step - loss: 0.0559 - accuracy: 0.9829 - val_loss: 0.0659 - val_accuracy: 0.9808\n",
      "Epoch 6/10\n",
      "938/938 [==============================] - 3s 3ms/step - loss: 0.0466 - accuracy: 0.9858 - val_loss: 0.0743 - val_accuracy: 0.9794\n",
      "Epoch 7/10\n",
      "938/938 [==============================] - 3s 3ms/step - loss: 0.0389 - accuracy: 0.9878 - val_loss: 0.0717 - val_accuracy: 0.9802\n",
      "Epoch 8/10\n",
      "938/938 [==============================] - 3s 3ms/step - loss: 0.0343 - accuracy: 0.9897 - val_loss: 0.0749 - val_accuracy: 0.9796\n",
      "Epoch 9/10\n",
      "938/938 [==============================] - 3s 3ms/step - loss: 0.0300 - accuracy: 0.9906 - val_loss: 0.0809 - val_accuracy: 0.9797\n",
      "Epoch 10/10\n",
      "938/938 [==============================] - 3s 3ms/step - loss: 0.0267 - accuracy: 0.9914 - val_loss: 0.0836 - val_accuracy: 0.9805\n"
     ]
    }
   ],
   "source": [
    "# training parameters\n",
    "batch_size = 64\n",
    "epochs = 10\n",
    "\n",
    "# create the deep neural net\n",
    "model_DNN=compile_model()\n",
    "\n",
    "# train DNN and store training info in history\n",
    "history=model_DNN.fit(X_train, Y_train,\n",
    "          batch_size=batch_size,\n",
    "          epochs=epochs,\n",
    "          verbose=1,\n",
    "          validation_data=(X_test, Y_test))"
   ]
  },
  {
   "cell_type": "markdown",
   "metadata": {},
   "source": [
    "### Step 5: Evaluate the Model Performance on the *Unseen* Test Data\n",
    "\n",
    "Next, we evaluate the model and read of the loss on the test data, and its accuracy using the `evaluate()` method."
   ]
  },
  {
   "cell_type": "code",
   "execution_count": 6,
   "metadata": {},
   "outputs": [
    {
     "name": "stdout",
     "output_type": "stream",
     "text": [
      "313/313 [==============================] - 0s 1ms/step - loss: 0.0836 - accuracy: 0.9805\n",
      "\n",
      "Test loss: 0.08359097689390182\n",
      "Test accuracy: 0.9804999828338623\n"
     ]
    },
    {
     "data": {
      "image/png": "[encoded data removed]",
      "text/plain": [
       "<Figure size 432x288 with 1 Axes>"
      ]
     },
     "metadata": {
      "needs_background": "light"
     },
     "output_type": "display_data"
    },
    {
     "data": {
      "image/png": "[encoded data removed]",
      "text/plain": [
       "<Figure size 432x288 with 1 Axes>"
      ]
     },
     "metadata": {
      "needs_background": "light"
     },
     "output_type": "display_data"
    }
   ],
   "source": [
    "# evaluate model\n",
    "score = model_DNN.evaluate(X_test, Y_test, verbose=1)\n",
    "\n",
    "# print performance\n",
    "print()\n",
    "print('Test loss:', score[0])\n",
    "print('Test accuracy:', score[1])\n",
    "\n",
    "# look into training history\n",
    "\n",
    "# summarize history for accuracy\n",
    "plt.plot(history.history['accuracy'])\n",
    "plt.plot(history.history['val_accuracy'])\n",
    "plt.ylabel('model accuracy')\n",
    "plt.xlabel('epoch')\n",
    "plt.legend(['train', 'test'], loc='best')\n",
    "plt.show()\n",
    "\n",
    "# summarize history for loss\n",
    "plt.plot(history.history['loss'])\n",
    "plt.plot(history.history['val_loss'])\n",
    "plt.ylabel('model loss')\n",
    "plt.xlabel('epoch')\n",
    "plt.legend(['train', 'test'], loc='best')\n",
    "plt.show()"
   ]
  },
  {
   "cell_type": "markdown",
   "metadata": {
    "collapsed": true
   },
   "source": [
    "### Step 6: Mini project\n",
    "Use what you've learnt above to reduce the test error as much as possible. You can study the effect of hyperparameters, the size of the training set, the solver you use, the number of neurons, of layers..."
   ]
  },
  {
   "cell_type": "code",
   "execution_count": 7,
   "metadata": {
    "scrolled": true
   },
   "outputs": [
    {
     "name": "stdout",
     "output_type": "stream",
     "text": [
      "Epoch 1/10\n",
      "938/938 [==============================] - 3s 3ms/step - loss: 0.2534 - accuracy: 0.9252\n",
      "Epoch 2/10\n",
      "938/938 [==============================] - 3s 3ms/step - loss: 0.1003 - accuracy: 0.9695\n",
      "Epoch 3/10\n",
      "938/938 [==============================] - 3s 3ms/step - loss: 0.0682 - accuracy: 0.9785\n",
      "Epoch 4/10\n",
      "938/938 [==============================] - 3s 3ms/step - loss: 0.0525 - accuracy: 0.9836\n",
      "Epoch 5/10\n",
      "938/938 [==============================] - 3s 3ms/step - loss: 0.0402 - accuracy: 0.9872\n",
      "Epoch 6/10\n",
      "938/938 [==============================] - 3s 3ms/step - loss: 0.0335 - accuracy: 0.9893\n",
      "Epoch 7/10\n",
      "938/938 [==============================] - 3s 3ms/step - loss: 0.0265 - accuracy: 0.9915\n",
      "Epoch 8/10\n",
      "938/938 [==============================] - 3s 3ms/step - loss: 0.0240 - accuracy: 0.9922\n",
      "Epoch 9/10\n",
      "938/938 [==============================] - 3s 3ms/step - loss: 0.0234 - accuracy: 0.9925\n",
      "Epoch 10/10\n",
      "938/938 [==============================] - 3s 3ms/step - loss: 0.0194 - accuracy: 0.9934\n",
      "0.9780333333333333\n",
      "{'batch_size': 64, 'dropout_rate': 0.3, 'epochs': 10, 'hidden_layers': 1, 'neurons': 125}\n"
     ]
    }
   ],
   "source": [
    "from sklearn.model_selection import GridSearchCV\n",
    "from keras.wrappers.scikit_learn import KerasClassifier\n",
    "\n",
    "def build_model(hidden_layers=1,\n",
    "                neurons=100,\n",
    "                dropout_rate=0.5,\n",
    "                activation='relu',\n",
    "                optimizer=keras.optimizers.Adam()):\n",
    "    model = Sequential()\n",
    "    model.add(Dense(400,input_shape=(img_rows*img_cols,), activation=activation))\n",
    "    for i in range(hidden_layers):\n",
    "        model.add(Dense(neurons, activation=activation))\n",
    "    model.add(Dropout(dropout_rate))\n",
    "    model.add(Dense(num_classes, activation='softmax'))\n",
    "    \n",
    "    model.compile(loss=keras.losses.categorical_crossentropy,\n",
    "                  optimizer=optimizer,\n",
    "                  metrics=['accuracy'])\n",
    "    \n",
    "    return model\n",
    "\n",
    "model = KerasClassifier(build_fn=build_model)\n",
    "param_grid = {\n",
    "    'batch_size': [64],\n",
    "    'epochs': [10],\n",
    "    'dropout_rate': [0.2, 0.3, 0.4, 0.5],\n",
    "    'hidden_layers': [1, 2, 3],\n",
    "    'neurons': [75, 100, 125]\n",
    "}\n",
    "\n",
    "clf = GridSearchCV(model, param_grid, cv=5, n_jobs=-1, scoring='accuracy', verbose=0)\n",
    "f_model = clf.fit(X_train, Y_train_raw)\n",
    "\n",
    "print(f_model.best_score_)\n",
    "print(f_model.best_params_)"
   ]
  },
  {
   "cell_type": "code",
   "execution_count": 8,
   "metadata": {},
   "outputs": [
    {
     "name": "stdout",
     "output_type": "stream",
     "text": [
      "Epoch 1/40\n",
      "938/938 [==============================] - 3s 3ms/step - loss: 0.2049 - accuracy: 0.9390\n",
      "Epoch 2/40\n",
      "938/938 [==============================] - 3s 3ms/step - loss: 0.0870 - accuracy: 0.9737\n",
      "Epoch 3/40\n",
      "938/938 [==============================] - 3s 3ms/step - loss: 0.0608 - accuracy: 0.9808\n",
      "Epoch 4/40\n",
      "938/938 [==============================] - 3s 3ms/step - loss: 0.0445 - accuracy: 0.9861\n",
      "Epoch 5/40\n",
      "938/938 [==============================] - 3s 3ms/step - loss: 0.0346 - accuracy: 0.9894\n",
      "Epoch 6/40\n",
      "938/938 [==============================] - 3s 3ms/step - loss: 0.0300 - accuracy: 0.9902\n",
      "Epoch 7/40\n",
      "938/938 [==============================] - 3s 3ms/step - loss: 0.0229 - accuracy: 0.9922\n",
      "Epoch 8/40\n",
      "938/938 [==============================] - 3s 3ms/step - loss: 0.0211 - accuracy: 0.9930\n",
      "Epoch 9/40\n",
      "938/938 [==============================] - 3s 3ms/step - loss: 0.0175 - accuracy: 0.9944\n",
      "Epoch 10/40\n",
      "938/938 [==============================] - 3s 3ms/step - loss: 0.0165 - accuracy: 0.9946\n",
      "Epoch 11/40\n",
      "938/938 [==============================] - 3s 3ms/step - loss: 0.0148 - accuracy: 0.9952\n",
      "Epoch 12/40\n",
      "938/938 [==============================] - 3s 3ms/step - loss: 0.0153 - accuracy: 0.9949\n",
      "Epoch 13/40\n",
      "938/938 [==============================] - 3s 3ms/step - loss: 0.0109 - accuracy: 0.9965\n",
      "Epoch 14/40\n",
      "938/938 [==============================] - 3s 3ms/step - loss: 0.0125 - accuracy: 0.9959\n",
      "Epoch 15/40\n",
      "938/938 [==============================] - 3s 3ms/step - loss: 0.0105 - accuracy: 0.9962\n",
      "Epoch 16/40\n",
      "938/938 [==============================] - 3s 3ms/step - loss: 0.0106 - accuracy: 0.9965\n",
      "Epoch 17/40\n",
      "938/938 [==============================] - 3s 3ms/step - loss: 0.0124 - accuracy: 0.9961\n",
      "Epoch 18/40\n",
      "938/938 [==============================] - 3s 3ms/step - loss: 0.0090 - accuracy: 0.9973\n",
      "Epoch 19/40\n",
      "938/938 [==============================] - 3s 3ms/step - loss: 0.0100 - accuracy: 0.9968\n",
      "Epoch 20/40\n",
      "938/938 [==============================] - 3s 3ms/step - loss: 0.0074 - accuracy: 0.9975\n",
      "Epoch 21/40\n",
      "938/938 [==============================] - 3s 3ms/step - loss: 0.0094 - accuracy: 0.9972\n",
      "Epoch 22/40\n",
      "938/938 [==============================] - 3s 3ms/step - loss: 0.0110 - accuracy: 0.9967\n",
      "Epoch 23/40\n",
      "938/938 [==============================] - 3s 3ms/step - loss: 0.0088 - accuracy: 0.9974\n",
      "Epoch 24/40\n",
      "938/938 [==============================] - 3s 3ms/step - loss: 0.0086 - accuracy: 0.9973\n",
      "Epoch 25/40\n",
      "938/938 [==============================] - 3s 3ms/step - loss: 0.0088 - accuracy: 0.9974\n",
      "Epoch 26/40\n",
      "938/938 [==============================] - 3s 3ms/step - loss: 0.0057 - accuracy: 0.9980\n",
      "Epoch 27/40\n",
      "938/938 [==============================] - 3s 3ms/step - loss: 0.0085 - accuracy: 0.9973\n",
      "Epoch 28/40\n",
      "938/938 [==============================] - 3s 3ms/step - loss: 0.0067 - accuracy: 0.9982\n",
      "Epoch 29/40\n",
      "938/938 [==============================] - 3s 3ms/step - loss: 0.0066 - accuracy: 0.9980\n",
      "Epoch 30/40\n",
      "938/938 [==============================] - 3s 3ms/step - loss: 0.0090 - accuracy: 0.9972\n",
      "Epoch 31/40\n",
      "938/938 [==============================] - 3s 3ms/step - loss: 0.0076 - accuracy: 0.9976\n",
      "Epoch 32/40\n",
      "938/938 [==============================] - 3s 3ms/step - loss: 0.0075 - accuracy: 0.9979\n",
      "Epoch 33/40\n",
      "938/938 [==============================] - 3s 3ms/step - loss: 0.0048 - accuracy: 0.9984\n",
      "Epoch 34/40\n",
      "938/938 [==============================] - 3s 3ms/step - loss: 0.0067 - accuracy: 0.9981\n",
      "Epoch 35/40\n",
      "938/938 [==============================] - 3s 3ms/step - loss: 0.0077 - accuracy: 0.9976\n",
      "Epoch 36/40\n",
      "938/938 [==============================] - 3s 3ms/step - loss: 0.0066 - accuracy: 0.9980\n",
      "Epoch 37/40\n",
      "938/938 [==============================] - 3s 3ms/step - loss: 0.0053 - accuracy: 0.9985\n",
      "Epoch 38/40\n",
      "938/938 [==============================] - 3s 3ms/step - loss: 0.0073 - accuracy: 0.9980\n",
      "Epoch 39/40\n",
      "938/938 [==============================] - 3s 3ms/step - loss: 0.0067 - accuracy: 0.9984\n",
      "Epoch 40/40\n",
      "938/938 [==============================] - 3s 3ms/step - loss: 0.0056 - accuracy: 0.9983\n"
     ]
    }
   ],
   "source": [
    "model = KerasClassifier(build_fn=build_model)\n",
    "param_grid = {\n",
    "    'batch_size': [64],\n",
    "    'epochs': [10, 20, 30, 40],\n",
    "    'dropout_rate': [f_model.best_params_['dropout_rate']],\n",
    "    'hidden_layers': [f_model.best_params_['hidden_layers']],\n",
    "    'neurons': [f_model.best_params_['neurons']]\n",
    "}\n",
    "\n",
    "clf = GridSearchCV(model, param_grid, cv=5, n_jobs=-1, scoring='accuracy', verbose=0)\n",
    "f_model = clf.fit(X_train, Y_train_raw)\n",
    "\n",
    "#print(model.best_score_)\n",
    "#print(model.best_params_)"
   ]
  },
  {
   "cell_type": "code",
   "execution_count": 13,
   "metadata": {},
   "outputs": [
    {
     "name": "stdout",
     "output_type": "stream",
     "text": [
      "Epoch 1/40\n",
      "938/938 [==============================] - 4s 4ms/step - loss: 0.2001 - accuracy: 0.9399 - val_loss: 0.1080 - val_accuracy: 0.9667\n",
      "Epoch 2/40\n",
      "938/938 [==============================] - 3s 4ms/step - loss: 0.0844 - accuracy: 0.9745 - val_loss: 0.0858 - val_accuracy: 0.9741\n",
      "Epoch 3/40\n",
      "938/938 [==============================] - 3s 4ms/step - loss: 0.0582 - accuracy: 0.9824 - val_loss: 0.0722 - val_accuracy: 0.9776\n",
      "Epoch 4/40\n",
      "938/938 [==============================] - 3s 4ms/step - loss: 0.0421 - accuracy: 0.9866 - val_loss: 0.0758 - val_accuracy: 0.9778\n",
      "Epoch 5/40\n",
      "938/938 [==============================] - 3s 4ms/step - loss: 0.0333 - accuracy: 0.9897 - val_loss: 0.0676 - val_accuracy: 0.9796\n",
      "Epoch 6/40\n",
      "938/938 [==============================] - 3s 4ms/step - loss: 0.0258 - accuracy: 0.9924 - val_loss: 0.0673 - val_accuracy: 0.9825\n",
      "Epoch 7/40\n",
      "938/938 [==============================] - 3s 4ms/step - loss: 0.0238 - accuracy: 0.9919 - val_loss: 0.0763 - val_accuracy: 0.9798\n",
      "Epoch 8/40\n",
      "938/938 [==============================] - 3s 4ms/step - loss: 0.0185 - accuracy: 0.9939 - val_loss: 0.0820 - val_accuracy: 0.9806\n",
      "Epoch 9/40\n",
      "938/938 [==============================] - 3s 4ms/step - loss: 0.0180 - accuracy: 0.9944 - val_loss: 0.0813 - val_accuracy: 0.9800\n",
      "Epoch 10/40\n",
      "938/938 [==============================] - 3s 4ms/step - loss: 0.0151 - accuracy: 0.9948 - val_loss: 0.0746 - val_accuracy: 0.9830\n",
      "Epoch 11/40\n",
      "938/938 [==============================] - 3s 4ms/step - loss: 0.0130 - accuracy: 0.9956 - val_loss: 0.0753 - val_accuracy: 0.9826\n",
      "Epoch 12/40\n",
      "938/938 [==============================] - 3s 4ms/step - loss: 0.0137 - accuracy: 0.9956 - val_loss: 0.0860 - val_accuracy: 0.9805\n",
      "Epoch 13/40\n",
      "938/938 [==============================] - 3s 4ms/step - loss: 0.0119 - accuracy: 0.9961 - val_loss: 0.0877 - val_accuracy: 0.9817\n",
      "Epoch 14/40\n",
      "938/938 [==============================] - 3s 4ms/step - loss: 0.0121 - accuracy: 0.9961 - val_loss: 0.0926 - val_accuracy: 0.9819\n",
      "Epoch 15/40\n",
      "938/938 [==============================] - 3s 4ms/step - loss: 0.0090 - accuracy: 0.9972 - val_loss: 0.0898 - val_accuracy: 0.9828\n",
      "Epoch 16/40\n",
      "938/938 [==============================] - 3s 4ms/step - loss: 0.0114 - accuracy: 0.9965 - val_loss: 0.0985 - val_accuracy: 0.9807\n",
      "Epoch 17/40\n",
      "938/938 [==============================] - 3s 4ms/step - loss: 0.0094 - accuracy: 0.9968 - val_loss: 0.1114 - val_accuracy: 0.9796\n",
      "Epoch 18/40\n",
      "938/938 [==============================] - 3s 4ms/step - loss: 0.0104 - accuracy: 0.9969 - val_loss: 0.1047 - val_accuracy: 0.9819\n",
      "Epoch 19/40\n",
      "938/938 [==============================] - 3s 4ms/step - loss: 0.0077 - accuracy: 0.9975 - val_loss: 0.1089 - val_accuracy: 0.9826\n",
      "Epoch 20/40\n",
      "938/938 [==============================] - 3s 4ms/step - loss: 0.0094 - accuracy: 0.9972 - val_loss: 0.1021 - val_accuracy: 0.9827\n",
      "Epoch 21/40\n",
      "938/938 [==============================] - 3s 4ms/step - loss: 0.0090 - accuracy: 0.9970 - val_loss: 0.1087 - val_accuracy: 0.9819\n",
      "Epoch 22/40\n",
      "938/938 [==============================] - 3s 4ms/step - loss: 0.0076 - accuracy: 0.9975 - val_loss: 0.0993 - val_accuracy: 0.9812\n",
      "Epoch 23/40\n",
      "938/938 [==============================] - 3s 4ms/step - loss: 0.0113 - accuracy: 0.9966 - val_loss: 0.0922 - val_accuracy: 0.9828\n",
      "Epoch 24/40\n",
      "938/938 [==============================] - 3s 4ms/step - loss: 0.0056 - accuracy: 0.9983 - val_loss: 0.1026 - val_accuracy: 0.9838\n",
      "Epoch 25/40\n",
      "938/938 [==============================] - 3s 4ms/step - loss: 0.0070 - accuracy: 0.9980 - val_loss: 0.1252 - val_accuracy: 0.9788\n",
      "Epoch 26/40\n",
      "938/938 [==============================] - 3s 4ms/step - loss: 0.0077 - accuracy: 0.9976 - val_loss: 0.1290 - val_accuracy: 0.9795\n",
      "Epoch 27/40\n",
      "938/938 [==============================] - 3s 4ms/step - loss: 0.0078 - accuracy: 0.9975 - val_loss: 0.1087 - val_accuracy: 0.9818\n",
      "Epoch 28/40\n",
      "938/938 [==============================] - 3s 4ms/step - loss: 0.0076 - accuracy: 0.9976 - val_loss: 0.1127 - val_accuracy: 0.9834\n",
      "Epoch 29/40\n",
      "938/938 [==============================] - 3s 4ms/step - loss: 0.0065 - accuracy: 0.9984 - val_loss: 0.1300 - val_accuracy: 0.9825\n",
      "Epoch 30/40\n",
      "938/938 [==============================] - 3s 4ms/step - loss: 0.0077 - accuracy: 0.9974 - val_loss: 0.1146 - val_accuracy: 0.9825\n",
      "Epoch 31/40\n",
      "938/938 [==============================] - 3s 4ms/step - loss: 0.0069 - accuracy: 0.9980 - val_loss: 0.1345 - val_accuracy: 0.9818\n",
      "Epoch 32/40\n",
      "938/938 [==============================] - 3s 4ms/step - loss: 0.0055 - accuracy: 0.9984 - val_loss: 0.1323 - val_accuracy: 0.9823\n",
      "Epoch 33/40\n",
      "938/938 [==============================] - 3s 4ms/step - loss: 0.0056 - accuracy: 0.9983 - val_loss: 0.1164 - val_accuracy: 0.9826\n",
      "Epoch 34/40\n",
      "938/938 [==============================] - 3s 4ms/step - loss: 0.0081 - accuracy: 0.9976 - val_loss: 0.1357 - val_accuracy: 0.9819\n",
      "Epoch 35/40\n",
      "938/938 [==============================] - 3s 4ms/step - loss: 0.0064 - accuracy: 0.9983 - val_loss: 0.1300 - val_accuracy: 0.9818\n",
      "Epoch 36/40\n",
      "938/938 [==============================] - 3s 4ms/step - loss: 0.0063 - accuracy: 0.9982 - val_loss: 0.1422 - val_accuracy: 0.9803\n",
      "Epoch 37/40\n",
      "938/938 [==============================] - 3s 4ms/step - loss: 0.0070 - accuracy: 0.9981 - val_loss: 0.1394 - val_accuracy: 0.9814\n",
      "Epoch 38/40\n",
      "938/938 [==============================] - 3s 4ms/step - loss: 0.0049 - accuracy: 0.9985 - val_loss: 0.1399 - val_accuracy: 0.9812\n",
      "Epoch 39/40\n",
      "938/938 [==============================] - 3s 4ms/step - loss: 0.0058 - accuracy: 0.9983 - val_loss: 0.1399 - val_accuracy: 0.9820\n",
      "Epoch 40/40\n",
      "938/938 [==============================] - 3s 4ms/step - loss: 0.0078 - accuracy: 0.9974 - val_loss: 0.1486 - val_accuracy: 0.9824\n"
     ]
    }
   ],
   "source": [
    "o_model = build_model(\n",
    "    hidden_layers=f_model.best_params_['hidden_layers'],\n",
    "    neurons=f_model.best_params_['neurons'],\n",
    "    dropout_rate=f_model.best_params_['dropout_rate']\n",
    ")\n",
    "\n",
    "history=o_model.fit(X_train, Y_train,\n",
    "            batch_size=f_model.best_params_['batch_size'],\n",
    "            epochs=f_model.best_params_['epochs'],\n",
    "            verbose=1,\n",
    "            validation_data=(X_test, Y_test))"
   ]
  },
  {
   "cell_type": "code",
   "execution_count": 15,
   "metadata": {},
   "outputs": [
    {
     "name": "stdout",
     "output_type": "stream",
     "text": [
      "313/313 [==============================] - 0s 2ms/step - loss: 0.1486 - accuracy: 0.9824\n",
      "Test accuracy :  [0.1485796868801117, 0.9824000000953674]\n",
      "Gain : 1.937804e-03\n"
     ]
    }
   ],
   "source": [
    "optimized_score = o_model.evaluate(X_test, Y_test)\n",
    "gain = (optimized_score[1] - score[1]) / score[1]\n",
    "print('Test accuracy : ', optimized_score)\n",
    "print('Gain : %e' % gain)"
   ]
  },
  {
   "cell_type": "markdown",
   "metadata": {},
   "source": [
    "## Creating Convolutional Neural Nets with Keras\n",
    "\n",
    "We have so far considered each MNIST data sample as a $(28\\times 28,)$-long 1d vector. This approach neglects any spatial structure in the image. On the other hand, we do know that in every one of the hand-written digits there are *local* spatial correlations between the pixels, which we would like to take advantage of to improve the accuracy of our classification model. To this end, we first need to reshape the training and test input data as follows"
   ]
  },
  {
   "cell_type": "code",
   "execution_count": 3,
   "metadata": {},
   "outputs": [
    {
     "name": "stdout",
     "output_type": "stream",
     "text": [
      "X_train shape: (60000, 28, 28, 1)\n",
      "Y_train shape: (60000, 10)\n",
      "\n",
      "60000 train samples\n",
      "10000 test samples\n"
     ]
    }
   ],
   "source": [
    "# reshape data, depending on Keras backend\n",
    "if keras.backend.image_data_format() == 'channels_first':\n",
    "    X_train = X_train.reshape(X_train.shape[0], 1, img_rows, img_cols)\n",
    "    X_test = X_test.reshape(X_test.shape[0], 1, img_rows, img_cols)\n",
    "    input_shape = (1, img_rows, img_cols)\n",
    "else:\n",
    "    X_train = X_train.reshape(X_train.shape[0], img_rows, img_cols, 1)\n",
    "    X_test = X_test.reshape(X_test.shape[0], img_rows, img_cols, 1)\n",
    "    input_shape = (img_rows, img_cols, 1)\n",
    "    \n",
    "print('X_train shape:', X_train.shape)\n",
    "print('Y_train shape:', Y_train.shape)\n",
    "print()\n",
    "print(X_train.shape[0], 'train samples')\n",
    "print(X_test.shape[0], 'test samples')"
   ]
  },
  {
   "cell_type": "markdown",
   "metadata": {},
   "source": [
    "One can ask the question of whether a neural net can learn to recognize such local patterns. As we saw in Sec. X of the review, this can be achieved by using convolutional layers. Luckily, all we need to do is change the architecture of our DNN, i.e. introduce small changes to the function `create_model()`. We can also merge **Step 2** and **Step 3** for convenience: "
   ]
  },
  {
   "cell_type": "code",
   "execution_count": 4,
   "metadata": {},
   "outputs": [],
   "source": [
    "def create_CNN():\n",
    "    # instantiate model\n",
    "    model = Sequential()\n",
    "    # add first convolutional layer with 10 filters (dimensionality of output space)\n",
    "    model.add(Conv2D(10, kernel_size=(5, 5),\n",
    "                     activation='relu',\n",
    "                     input_shape=input_shape))\n",
    "    # add 2D pooling layer\n",
    "    model.add(MaxPooling2D(pool_size=(2, 2)))\n",
    "    # add second convolutional layer with 20 filters\n",
    "    model.add(Conv2D(20, (5, 5), activation='relu'))\n",
    "    # apply dropout with rate 0.5\n",
    "    model.add(Dropout(0.5))\n",
    "    # add 2D pooling layer\n",
    "    model.add(MaxPooling2D(pool_size=(2, 2)))\n",
    "    # flatten data\n",
    "    model.add(Flatten())\n",
    "    # add a dense all-to-all relu layer\n",
    "    model.add(Dense(20*4*4, activation='relu'))\n",
    "    # apply dropout with rate 0.5\n",
    "    model.add(Dropout(0.5))\n",
    "    # soft-max layer\n",
    "    model.add(Dense(num_classes, activation='softmax'))\n",
    "    \n",
    "    # compile the model\n",
    "    model.compile(loss=keras.losses.categorical_crossentropy,\n",
    "                  optimizer='Adam',\n",
    "                  metrics=['accuracy'])\n",
    "    \n",
    "    return model"
   ]
  },
  {
   "cell_type": "markdown",
   "metadata": {},
   "source": [
    "Training the deep conv net (**Step 4**) and evaluating its performance (**Step 6**) proceeds exactly as before:"
   ]
  },
  {
   "cell_type": "code",
   "execution_count": 8,
   "metadata": {},
   "outputs": [
    {
     "name": "stdout",
     "output_type": "stream",
     "text": [
      "Epoch 1/10\n",
      "938/938 [==============================] - 11s 12ms/step - loss: 0.2628 - accuracy: 0.9180 - val_loss: 0.0799 - val_accuracy: 0.9831\n",
      "Epoch 2/10\n",
      "938/938 [==============================] - 11s 11ms/step - loss: 0.0926 - accuracy: 0.9718 - val_loss: 0.0552 - val_accuracy: 0.9856\n",
      "Epoch 3/10\n",
      "938/938 [==============================] - 11s 11ms/step - loss: 0.0692 - accuracy: 0.9786 - val_loss: 0.0420 - val_accuracy: 0.9901\n",
      "Epoch 4/10\n",
      "938/938 [==============================] - 11s 11ms/step - loss: 0.0601 - accuracy: 0.9810 - val_loss: 0.0413 - val_accuracy: 0.9885\n",
      "Epoch 5/10\n",
      "938/938 [==============================] - 11s 11ms/step - loss: 0.0536 - accuracy: 0.9835 - val_loss: 0.0313 - val_accuracy: 0.9917\n",
      "Epoch 6/10\n",
      "938/938 [==============================] - 11s 11ms/step - loss: 0.0462 - accuracy: 0.9857 - val_loss: 0.0279 - val_accuracy: 0.9935\n",
      "Epoch 7/10\n",
      "938/938 [==============================] - 11s 11ms/step - loss: 0.0436 - accuracy: 0.9866 - val_loss: 0.0278 - val_accuracy: 0.9927\n",
      "Epoch 8/10\n",
      "938/938 [==============================] - 11s 11ms/step - loss: 0.0407 - accuracy: 0.9874 - val_loss: 0.0255 - val_accuracy: 0.9933\n",
      "Epoch 9/10\n",
      "938/938 [==============================] - 11s 11ms/step - loss: 0.0400 - accuracy: 0.9880 - val_loss: 0.0358 - val_accuracy: 0.9924\n",
      "Epoch 10/10\n",
      "938/938 [==============================] - 11s 11ms/step - loss: 0.0358 - accuracy: 0.9887 - val_loss: 0.0252 - val_accuracy: 0.9920\n",
      "313/313 [==============================] - 1s 4ms/step - loss: 0.0252 - accuracy: 0.9920\n",
      "\n",
      "Test loss: 0.02516830712556839\n",
      "Test accuracy: 0.9919999837875366\n"
     ]
    }
   ],
   "source": [
    "# training parameters\n",
    "batch_size = 64\n",
    "epochs = 10\n",
    "\n",
    "# create the deep conv net\n",
    "model_CNN=create_CNN()\n",
    "\n",
    "# train CNN\n",
    "model_CNN.fit(X_train, Y_train,\n",
    "          batch_size=batch_size,\n",
    "          epochs=epochs,\n",
    "          verbose=1,\n",
    "          validation_data=(X_test, Y_test))\n",
    "\n",
    "# evaliate model\n",
    "score = model_CNN.evaluate(X_test, Y_test, verbose=1)\n",
    "\n",
    "# print performance\n",
    "print()\n",
    "print('Test loss:', score[0])\n",
    "print('Test accuracy:', score[1])"
   ]
  },
  {
   "cell_type": "code",
   "execution_count": null,
   "metadata": {},
   "outputs": [],
   "source": []
  }
 ],
 "metadata": {
  "kernelspec": {
   "display_name": "Python 3",
   "language": "python",
   "name": "python3"
  },
  "language_info": {
   "codemirror_mode": {
    "name": "ipython",
    "version": 3
   },
   "file_extension": ".py",
   "mimetype": "text/x-python",
   "name": "python",
   "nbconvert_exporter": "python",
   "pygments_lexer": "ipython3",
   "version": "3.8.6"
  }
 },
 "nbformat": 4,
 "nbformat_minor": 2
}
